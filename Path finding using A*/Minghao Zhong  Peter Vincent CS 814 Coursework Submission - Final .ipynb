{
 "cells": [
  {
   "cell_type": "markdown",
   "id": "9bfd0a21",
   "metadata": {},
   "source": [
    "### Minghao Zhong & Peter Vincent CS 814 Coursework Submission"
   ]
  },
  {
   "cell_type": "markdown",
   "id": "29d17a94",
   "metadata": {},
   "source": [
    "# Import Required Libraries "
   ]
  },
  {
   "cell_type": "code",
   "execution_count": 1,
   "id": "9d17b74a",
   "metadata": {},
   "outputs": [],
   "source": [
    "import numpy as np\n",
    "import matplotlib\n",
    "import matplotlib.pyplot as plt\n"
   ]
  },
  {
   "cell_type": "markdown",
   "id": "9f900a95",
   "metadata": {},
   "source": [
    "# Create A Map To Display Our Spaces "
   ]
  },
  {
   "cell_type": "code",
   "execution_count": 7,
   "id": "a5fe2414",
   "metadata": {},
   "outputs": [
    {
     "name": "stdout",
     "output_type": "stream",
     "text": [
      "Please enter the first dimension of the map :10\n",
      "Please enter the second dimension of the map :10\n"
     ]
    },
    {
     "data": {
      "image/png": "[encoded data removed]",
      "text/plain": [
       "<Figure size 720x720 with 1 Axes>"
      ]
     },
     "metadata": {
      "needs_background": "light"
     },
     "output_type": "display_data"
    }
   ],
   "source": [
    "a = int(input(\"Please enter the first dimension of the map :\"))\n",
    "b = int(input(\"Please enter the second dimension of the map :\"))\n",
    "\n",
    "nums = np.random.choice([0,1], size=(a,b),p=[.3, .7])\n",
    "nums[a-1,b-1] = 1\n",
    "\n",
    "#We can use this function to make our map\n",
    "\n",
    "def Make_map(x,y):\n",
    "    # Designate colours\n",
    "    color1=(1,1,1)\n",
    "    color2=(0/255,0/255,0/255)\n",
    "\n",
    "# Visually plot the state space\n",
    "    my_cmap = matplotlib.colors.LinearSegmentedColormap.from_list('my_cmap',['black','white'],2)\n",
    "    plt.figure(figsize=(10, 10))\n",
    "    cs=plt.imshow(nums,cmap=my_cmap,aspect='equal')\n",
    "   \n",
    "    plt.xticks(np.linspace(0,b,b,endpoint=False)-0.5,(),fontsize=0)\n",
    "    plt.yticks(np.linspace(0,a,a,endpoint=False)-0.53,(),fontsize=0)\n",
    "    plt.ylabel(\"Initial State >\",\n",
    "                   size=15,\n",
    "                   rotation=0,\n",
    "                   loc='top')\n",
    "    plt.xlabel(\"Goal State ^\",\n",
    "                   size=15,\n",
    "                   rotation=0,\n",
    "                   loc='right')\n",
    "    plt.tick_params(bottom=False,left=False,labeltop=True,labelright=True)\n",
    "    plt.grid(which='both')\n",
    "    plt.show()\n",
    "\n",
    "Make_map(a,b)\n"
   ]
  },
  {
   "cell_type": "markdown",
   "id": "9ef9ceeb",
   "metadata": {},
   "source": [
    "## What Is Our Goal State and Our Initial State?"
   ]
  },
  {
   "cell_type": "code",
   "execution_count": 8,
   "id": "5ab232bd",
   "metadata": {},
   "outputs": [
    {
     "name": "stdout",
     "output_type": "stream",
     "text": [
      "In our map the initial state is [0,0]\n",
      "and the goal state is [10, 10]\n"
     ]
    }
   ],
   "source": [
    "# As we are using a matrix this the goal state and initial state\n",
    "# below is to help the reader understand. \n",
    "\n",
    "def goal_state(a,b):\n",
    "    return[a,b]\n",
    "\n",
    "print('In our map the initial state is [0,0]')\n",
    "\n",
    "print(\"and the goal state is\", goal_state(a,b))\n"
   ]
  },
  {
   "cell_type": "markdown",
   "id": "2eec2f38",
   "metadata": {},
   "source": [
    "# Build A* Algorithm to Answer the Problem"
   ]
  },
  {
   "cell_type": "markdown",
   "id": "5ea1b461",
   "metadata": {},
   "source": [
    "## Check If The State Is Valid "
   ]
  },
  {
   "cell_type": "code",
   "execution_count": 10,
   "id": "bb6c8da1",
   "metadata": {},
   "outputs": [],
   "source": [
    "# Check if the state is valid\n",
    "def checkValidState(state): \n",
    "    if state[0] > a-1 or state[0] < 0:\n",
    "            return False\n",
    "    if state[1] > b-1 or state[1] < 0:\n",
    "            return False\n",
    "    if nums[state[0]][state[1]] == 0:\n",
    "        return False\n",
    "    return True"
   ]
  },
  {
   "cell_type": "markdown",
   "id": "0b35e81d",
   "metadata": {},
   "source": [
    "## Check If Our Agent is in a Goal State"
   ]
  },
  {
   "cell_type": "code",
   "execution_count": 11,
   "id": "31ab0528",
   "metadata": {},
   "outputs": [],
   "source": [
    "# Check if the current node is the goal    \n",
    "def goal(state):\n",
    "    if state[0] == a-1 and state[1] == b-1:\n",
    "        return True\n",
    "    else:\n",
    "        return False"
   ]
  },
  {
   "cell_type": "markdown",
   "id": "c32eba4c",
   "metadata": {},
   "source": [
    "## Our Heuristic"
   ]
  },
  {
   "cell_type": "code",
   "execution_count": 12,
   "id": "a43879fb",
   "metadata": {},
   "outputs": [],
   "source": [
    "# We have chosen to use the manhattan distance to the goal state as our heuristic to guide A* \n",
    "\n",
    "def heuristic(state):\n",
    "        value = ( a - 1 - state[0]) + ( b - 1 - state[1])\n",
    "        return value "
   ]
  },
  {
   "cell_type": "markdown",
   "id": "93694a59",
   "metadata": {},
   "source": [
    "## Then We Can Run Our Algorithm!"
   ]
  },
  {
   "cell_type": "code",
   "execution_count": 13,
   "id": "8781899f",
   "metadata": {
    "scrolled": false
   },
   "outputs": [],
   "source": [
    "try:\n",
    "    current = [0,0]\n",
    "    visitedstate=[[0,0]]\n",
    "    agenda = []\n",
    "    valuelist = []\n",
    "    global minvalue\n",
    "    possibleActions = [[1,0],[-1,0],[0,1],[0,-1]]\n",
    "    costlist = []\n",
    "    cost = 0\n",
    "    reach_cost = 1\n",
    "    reach_cost_list = [0]\n",
    "    while not goal(current):\n",
    "        cost += 1\n",
    "        for move in possibleActions:\n",
    "            nextstate = [current[i] + move[i] for i in range(2)]\n",
    "            if nextstate not in visitedstate and nextstate not in agenda and checkValidState(nextstate):\n",
    "                agenda.append(nextstate)\n",
    "                if cost != reach_cost: \n",
    "                    real_cost = reach_cost + 1\n",
    "                else:\n",
    "                    real_cost = cost\n",
    "                costlist.append(real_cost)\n",
    "                valuelist.append(heuristic(nextstate))\n",
    "        if len(agenda) == 1:\n",
    "            current = agenda.pop(0)\n",
    "            k = valuelist.pop(0)\n",
    "            reach_cost = costlist.pop(0)\n",
    "            visitedstate.append(current)\n",
    "        else:        \n",
    "            minvalue = valuelist[0] + costlist[0]\n",
    "            for i in range(len(agenda)):\n",
    "                if valuelist[i] + costlist[i] <= minvalue:                \n",
    "                    minvalue = valuelist[i] + costlist[i]\n",
    "                    minindex = i\n",
    "            current = agenda.pop(minindex)\n",
    "            reach_cost = costlist.pop(minindex)\n",
    "            k = valuelist.pop(minindex) \n",
    "            visitedstate.append(current)\n",
    "        reach_cost_list.append(reach_cost)\n",
    "except IndexError:  \n",
    "    print('No way out! Try another maze.')\n"
   ]
  },
  {
   "cell_type": "markdown",
   "id": "df863855",
   "metadata": {},
   "source": [
    "## What Does This Look Like?"
   ]
  },
  {
   "cell_type": "code",
   "execution_count": 14,
   "id": "07bb1e50",
   "metadata": {},
   "outputs": [],
   "source": [
    "active = [a-1,b-1]\n",
    "real_route = [[a-1,b-1]]\n",
    "while active != [0,0]:\n",
    "    for move in possibleActions:\n",
    "        nextstep = [active[i] + move[i] for i in range(2)]\n",
    "        if nextstep in visitedstate and reach_cost_list[visitedstate.index(active)] - 1 == reach_cost_list[visitedstate.index(nextstep)]:\n",
    "            active = nextstep\n",
    "            real_route.append(nextstep)"
   ]
  },
  {
   "cell_type": "code",
   "execution_count": 15,
   "id": "d1060a6f",
   "metadata": {},
   "outputs": [],
   "source": [
    "new_nums = nums.tolist()\n",
    "k = len(real_route)\n",
    "i =1\n",
    "\n",
    "for item in real_route:\n",
    "    new_nums[item[0]][item[1]] = (i/(1.25*k))\n",
    "    i +=1"
   ]
  },
  {
   "cell_type": "code",
   "execution_count": 16,
   "id": "1aa1276e",
   "metadata": {},
   "outputs": [
    {
     "data": {
      "image/png": "[encoded data removed]",
      "text/plain": [
       "<Figure size 720x720 with 2 Axes>"
      ]
     },
     "metadata": {
      "needs_background": "light"
     },
     "output_type": "display_data"
    }
   ],
   "source": [
    "color1=(1,1,1)\n",
    "color2=(0/255,0/255,0/255)\n",
    "color3=(150/255,150/255,150/255)\n",
    "\n",
    "# Visually plot the state space\n",
    "\n",
    "plt.figure(figsize=(10, 10))\n",
    "\n",
    "cs=plt.imshow(new_nums,cmap='hot',aspect='equal')\n",
    "plt.xticks(np.linspace(0,b,b,endpoint=False)-0.51,(),fontsize=0)\n",
    "plt.yticks(np.linspace(0,a,a,endpoint=False)-0.53,(),fontsize=0)\n",
    "plt.ylabel(\"Initial State >\",\n",
    "            size=a,\n",
    "            rotation=0,\n",
    "            loc='top')\n",
    "plt.xlabel(\"Goal State ^\",\n",
    "            size=a,\n",
    "            rotation=0,\n",
    "            loc='right')\n",
    "plt.tick_params(bottom=False,left=False,labeltop=True,labelright=True)\n",
    "plt.grid(which='both')\n",
    "plt.colorbar(shrink =0.5)\n",
    "plt.show()\n",
    "\n"
   ]
  }
 ],
 "metadata": {
  "kernelspec": {
   "display_name": "Python 3",
   "language": "python",
   "name": "python3"
  },
  "language_info": {
   "codemirror_mode": {
    "name": "ipython",
    "version": 3
   },
   "file_extension": ".py",
   "mimetype": "text/x-python",
   "name": "python",
   "nbconvert_exporter": "python",
   "pygments_lexer": "ipython3",
   "version": "3.8.8"
  }
 },
 "nbformat": 4,
 "nbformat_minor": 5
}
