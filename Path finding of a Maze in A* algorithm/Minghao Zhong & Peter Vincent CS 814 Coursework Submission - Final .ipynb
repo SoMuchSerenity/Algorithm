{
 "cells": [
  {
   "cell_type": "markdown",
   "id": "9bfd0a21",
   "metadata": {},
   "source": [
    "### Minghao Zhong & Peter Vincent CS 814 Coursework Submission"
   ]
  },
  {
   "cell_type": "markdown",
   "id": "29d17a94",
   "metadata": {},
   "source": [
    "# Import Required Libraries "
   ]
  },
  {
   "cell_type": "code",
   "execution_count": 1,
   "id": "9d17b74a",
   "metadata": {},
   "outputs": [],
   "source": [
    "import numpy as np\n",
    "import matplotlib\n",
    "import matplotlib.pyplot as plt\n"
   ]
  },
  {
   "cell_type": "markdown",
   "id": "73a7eb7f",
   "metadata": {},
   "source": [
    "# Create Our Available/Unavailable Spaces "
   ]
  },
  {
   "cell_type": "markdown",
   "id": "9f900a95",
   "metadata": {},
   "source": [
    "# Create A Map To Display Our Spaces "
   ]
  },
  {
   "cell_type": "code",
   "execution_count": 2,
   "id": "bee06b4a",
   "metadata": {},
   "outputs": [
    {
     "name": "stdout",
     "output_type": "stream",
     "text": [
      "Please enter the first dimension of the map :7\n",
      "Please enter the second dimension of the map :7\n"
     ]
    }
   ],
   "source": [
    "# i suggest putting dimension selection into a single block so when it is fixed, you can get many different mazes without multiple input\n",
    "\n",
    "a = int(input(\"Please enter the first dimension of the map :\"))\n",
    "b = int(input(\"Please enter the second dimension of the map :\"))"
   ]
  },
  {
   "cell_type": "code",
   "execution_count": 3,
   "id": "a5fe2414",
   "metadata": {},
   "outputs": [],
   "source": [
    "nums = np.random.choice([0,1], size=(5,5),p=[.3, .7])\n",
    "nums = np.random.choice([0,1], size=(a,b),p=[.3, .7])\n",
    "nums[0,0] = 1\n",
    "nums[a-1,b-1] = 1\n",
    "\n",
    "def Make_map(x,y):\n",
    "   \n",
    "    # Create our state space\n",
    "    #nums = np.random.choice([0,1], size=(x,y),p=[.3, .7])\n",
    "    #nums[0,0] = 1\n",
    "    #nums[x-1,y-1] = 1\n",
    "    \n",
    "    \n",
    "\n",
    "\n",
    "    # Designate colours\n",
    "    color1=(1,1,1)\n",
    "    color2=(0/255,0/255,0/255)\n",
    "\n",
    "    # Visually plot the state space\n",
    "    my_cmap = matplotlib.colors.LinearSegmentedColormap.from_list('my_cmap',['black','white'],2)\n",
    "    plt.figure(figsize=(10, 10))\n",
    "    cs=plt.imshow(nums,cmap=my_cmap,aspect='equal')\n",
    "   \n",
    "    plt.xticks(np.linspace(0,y,y,endpoint=False)-0.5,(),fontsize=0)\n",
    "    plt.yticks(np.linspace(0,x,x,endpoint=False)-0.53,(),fontsize=0)\n",
    "    plt.ylabel(\"Start >\",\n",
    "                   size=15,\n",
    "                   rotation=0,\n",
    "                   loc='top')\n",
    "    plt.xlabel(\"Finish ^\",\n",
    "                   size=15,\n",
    "                   rotation=0,\n",
    "                   loc='right')\n",
    "    plt.tick_params(bottom=False,left=False,labeltop=True,labelright=True)\n",
    "    plt.grid(which='both')\n",
    "    plt.show()"
   ]
  },
  {
   "cell_type": "code",
   "execution_count": 4,
   "id": "dd76ccb1",
   "metadata": {},
   "outputs": [
    {
     "data": {
      "image/png": "[encoded data removed]",
      "text/plain": [
       "<Figure size 720x720 with 1 Axes>"
      ]
     },
     "metadata": {
      "needs_background": "light"
     },
     "output_type": "display_data"
    }
   ],
   "source": [
    "Make_map(a,b)"
   ]
  },
  {
   "cell_type": "markdown",
   "id": "2eec2f38",
   "metadata": {},
   "source": [
    "# Build an A* Algorithm to Answer the Problem"
   ]
  },
  {
   "cell_type": "code",
   "execution_count": 5,
   "id": "bb6c8da1",
   "metadata": {},
   "outputs": [],
   "source": [
    "# Check if the state is valid\n",
    "def checkValidState(state): \n",
    "    if state[0] > a-1 or state[0] < 0:\n",
    "            return False\n",
    "        \n",
    "    if state[1] > b-1 or state[1] < 0:\n",
    "            return False\n",
    "    \n",
    "    \n",
    "    if nums[state[0]][state[1]] == 0:\n",
    "        return False\n",
    "    return True\n",
    "\n",
    "# Check if the current node is the goal    \n",
    "def goal(state):\n",
    "    if state[0] == a-1 and state[1] == b-1:\n",
    "        return True\n",
    "    else:\n",
    "        return False\n",
    "\n",
    "# We have chosen to use the manhattan distance to the goal state as our heuristic to guide A* \n",
    "def heuristic(state):\n",
    "        value = ( a - 1 - state[0]) + ( b - 1 - state[1])\n",
    "        return value    \n",
    "    \n",
    "# A* = Choose lowest expected cost to goal. Cost is created through combing the previous journey \n",
    "# and the expected distance to the goal \n"
   ]
  },
  {
   "cell_type": "code",
   "execution_count": 20,
   "id": "8781899f",
   "metadata": {
    "scrolled": false
   },
   "outputs": [
    {
     "name": "stdout",
     "output_type": "stream",
     "text": [
      "1\n",
      "k+cost 12 cost 1 k 11 reach_cost 1 [0, 1]     [[1, 0], [0, 1]]\n",
      "[0, 1]\n",
      "[[0, 0], [0, 1]]\n",
      "1\n",
      "k+cost 12 cost 2 k 10 reach_cost 2 [0, 2]     [[1, 0], [1, 1], [0, 2]]\n",
      "[0, 1, 2]\n",
      "[[0, 0], [0, 1], [0, 2]]\n",
      "2\n",
      "k+cost 12 cost 3 k 9 reach_cost 3 [0, 3]     [[1, 0], [1, 1], [1, 2], [0, 3]]\n",
      "[0, 1, 2, 3]\n",
      "[[0, 0], [0, 1], [0, 2], [0, 3]]\n",
      "3\n",
      "k+cost 12 cost 4 k 8 reach_cost 4 [0, 4]     [[1, 0], [1, 1], [1, 2], [1, 3], [0, 4]]\n",
      "[0, 1, 2, 3, 4]\n",
      "[[0, 0], [0, 1], [0, 2], [0, 3], [0, 4]]\n",
      "4\n",
      "k+cost 12 cost 5 k 7 reach_cost 5 [1, 4]     [[1, 0], [1, 1], [1, 2], [1, 3], [1, 4]]\n",
      "[0, 1, 2, 3, 4, 5]\n",
      "[[0, 0], [0, 1], [0, 2], [0, 3], [0, 4], [1, 4]]\n",
      "5\n",
      "k+cost 12 cost 6 k 6 reach_cost 6 [1, 5]     [[1, 0], [1, 1], [1, 2], [1, 3], [2, 4], [1, 5]]\n",
      "[0, 1, 2, 3, 4, 5, 6]\n",
      "[[0, 0], [0, 1], [0, 2], [0, 3], [0, 4], [1, 4], [1, 5]]\n",
      "6\n",
      "k+cost 12 cost 7 k 5 reach_cost 7 [1, 6]     [[1, 0], [1, 1], [1, 2], [1, 3], [2, 4], [2, 5], [1, 6]]\n",
      "[0, 1, 2, 3, 4, 5, 6, 7]\n",
      "[[0, 0], [0, 1], [0, 2], [0, 3], [0, 4], [1, 4], [1, 5], [1, 6]]\n",
      "7\n",
      "k+cost 12 cost 8 k 4 reach_cost 8 [2, 6]     [[1, 0], [1, 1], [1, 2], [1, 3], [2, 4], [2, 5], [0, 6], [2, 6]]\n",
      "[0, 1, 2, 3, 4, 5, 6, 7, 8]\n",
      "[[0, 0], [0, 1], [0, 2], [0, 3], [0, 4], [1, 4], [1, 5], [1, 6], [2, 6]]\n",
      "8\n",
      "k+cost 12 cost 9 k 3 reach_cost 9 [3, 6]     [[1, 0], [1, 1], [1, 2], [1, 3], [2, 4], [2, 5], [0, 6], [3, 6]]\n",
      "[0, 1, 2, 3, 4, 5, 6, 7, 8, 9]\n",
      "[[0, 0], [0, 1], [0, 2], [0, 3], [0, 4], [1, 4], [1, 5], [1, 6], [2, 6], [3, 6]]\n",
      "9\n",
      "k+cost 12 cost 10 k 2 reach_cost 10 [4, 6]     [[1, 0], [1, 1], [1, 2], [1, 3], [2, 4], [2, 5], [0, 6], [4, 6]]\n",
      "[0, 1, 2, 3, 4, 5, 6, 7, 8, 9, 10]\n",
      "[[0, 0], [0, 1], [0, 2], [0, 3], [0, 4], [1, 4], [1, 5], [1, 6], [2, 6], [3, 6], [4, 6]]\n",
      "10\n",
      "k+cost 12 cost 11 k 5 reach_cost 7 [2, 5]     [[1, 0], [1, 1], [1, 2], [1, 3], [2, 4], [0, 6], [4, 5], [2, 5]]\n",
      "[0, 1, 2, 3, 4, 5, 6, 7, 8, 9, 10, 7]\n",
      "[[0, 0], [0, 1], [0, 2], [0, 3], [0, 4], [1, 4], [1, 5], [1, 6], [2, 6], [3, 6], [4, 6], [2, 5]]\n",
      "7\n",
      "k+cost 12 cost 12 k 6 reach_cost 6 [2, 4]     [[1, 0], [1, 1], [1, 2], [1, 3], [0, 6], [4, 5], [2, 4]]\n",
      "[0, 1, 2, 3, 4, 5, 6, 7, 8, 9, 10, 7, 6]\n",
      "[[0, 0], [0, 1], [0, 2], [0, 3], [0, 4], [1, 4], [1, 5], [1, 6], [2, 6], [3, 6], [4, 6], [2, 5], [2, 4]]\n",
      "6\n",
      "k+cost 12 cost 13 k 5 reach_cost 7 [3, 4]     [[1, 0], [1, 1], [1, 2], [1, 3], [0, 6], [4, 5], [2, 3], [3, 4]]\n",
      "[0, 1, 2, 3, 4, 5, 6, 7, 8, 9, 10, 7, 6, 7]\n",
      "[[0, 0], [0, 1], [0, 2], [0, 3], [0, 4], [1, 4], [1, 5], [1, 6], [2, 6], [3, 6], [4, 6], [2, 5], [2, 4], [3, 4]]\n",
      "7\n",
      "k+cost 12 cost 14 k 4 reach_cost 8 [4, 4]     [[1, 0], [1, 1], [1, 2], [1, 3], [0, 6], [4, 5], [2, 3], [4, 4]]\n",
      "[0, 1, 2, 3, 4, 5, 6, 7, 8, 9, 10, 7, 6, 7, 8]\n",
      "[[0, 0], [0, 1], [0, 2], [0, 3], [0, 4], [1, 4], [1, 5], [1, 6], [2, 6], [3, 6], [4, 6], [2, 5], [2, 4], [3, 4], [4, 4]]\n",
      "8\n",
      "k+cost 12 cost 15 k 3 reach_cost 9 [5, 4]     [[1, 0], [1, 1], [1, 2], [1, 3], [0, 6], [4, 5], [2, 3], [4, 3], [5, 4]]\n",
      "[0, 1, 2, 3, 4, 5, 6, 7, 8, 9, 10, 7, 6, 7, 8, 9]\n",
      "[[0, 0], [0, 1], [0, 2], [0, 3], [0, 4], [1, 4], [1, 5], [1, 6], [2, 6], [3, 6], [4, 6], [2, 5], [2, 4], [3, 4], [4, 4], [5, 4]]\n",
      "9\n",
      "k+cost 12 cost 16 k 2 reach_cost 10 [5, 5]     [[1, 0], [1, 1], [1, 2], [1, 3], [0, 6], [4, 5], [2, 3], [4, 3], [6, 4], [5, 3], [5, 5]]\n",
      "[0, 1, 2, 3, 4, 5, 6, 7, 8, 9, 10, 7, 6, 7, 8, 9, 10]\n",
      "[[0, 0], [0, 1], [0, 2], [0, 3], [0, 4], [1, 4], [1, 5], [1, 6], [2, 6], [3, 6], [4, 6], [2, 5], [2, 4], [3, 4], [4, 4], [5, 4], [5, 5]]\n",
      "10\n",
      "k+cost 12 cost 17 k 1 reach_cost 11 [6, 5]     [[1, 0], [1, 1], [1, 2], [1, 3], [0, 6], [4, 5], [2, 3], [4, 3], [6, 4], [5, 3], [6, 5]]\n",
      "[0, 1, 2, 3, 4, 5, 6, 7, 8, 9, 10, 7, 6, 7, 8, 9, 10, 11]\n",
      "[[0, 0], [0, 1], [0, 2], [0, 3], [0, 4], [1, 4], [1, 5], [1, 6], [2, 6], [3, 6], [4, 6], [2, 5], [2, 4], [3, 4], [4, 4], [5, 4], [5, 5], [6, 5]]\n",
      "11\n",
      "k+cost 12 cost 18 k 0 reach_cost 12 [6, 6]     [[1, 0], [1, 1], [1, 2], [1, 3], [0, 6], [4, 5], [2, 3], [4, 3], [6, 4], [5, 3], [6, 6]]\n",
      "[0, 1, 2, 3, 4, 5, 6, 7, 8, 9, 10, 7, 6, 7, 8, 9, 10, 11, 12]\n",
      "[[0, 0], [0, 1], [0, 2], [0, 3], [0, 4], [1, 4], [1, 5], [1, 6], [2, 6], [3, 6], [4, 6], [2, 5], [2, 4], [3, 4], [4, 4], [5, 4], [5, 5], [6, 5], [6, 6]]\n",
      "The length of the route is 19\n",
      "Visualise the route using the following code\n"
     ]
    }
   ],
   "source": [
    "try:\n",
    "    current = [0,0]\n",
    "    \n",
    "    visitedstate=[[0,0]]\n",
    "    \n",
    "    agenda = []\n",
    "    \n",
    "    valuelist = []\n",
    "\n",
    "    global minvalue\n",
    "\n",
    "# the order here matters, try run on the same maze with [0,1],[1,0] and [1,0],[0,1]    \n",
    "    possibleActions = [[1,0],[-1,0],[0,1],[0,-1]]\n",
    "\n",
    "    costlist = []\n",
    "\n",
    "    cost = 0\n",
    "\n",
    "    reach_cost = 1\n",
    "\n",
    "    reach_cost_list = [0]\n",
    "    \n",
    "    while not goal(current):\n",
    "    \n",
    "        cost += 1\n",
    "    \n",
    "        print(reach_cost) \n",
    "    \n",
    "        for move in possibleActions:\n",
    "            \n",
    "            nextstate = [current[i] + move[i] for i in range(2)]\n",
    "            \n",
    "            if nextstate not in visitedstate and nextstate not in agenda and checkValidState(nextstate):\n",
    "            \n",
    "                agenda.append(nextstate)\n",
    "            \n",
    "                if cost != reach_cost: \n",
    "                \n",
    "                    real_cost = reach_cost + 1\n",
    "                \n",
    "                else:\n",
    "            \n",
    "                    real_cost = cost\n",
    "            \n",
    "                costlist.append(real_cost)\n",
    "            \n",
    "                valuelist.append(heuristic(nextstate))\n",
    "    \n",
    "        if len(agenda) == 1:\n",
    "        \n",
    "            current = agenda.pop(0)\n",
    "        \n",
    "            k = valuelist.pop(0)\n",
    "        \n",
    "            reach_cost = costlist.pop(0)\n",
    "        \n",
    "            visitedstate.append(current)\n",
    "        \n",
    "        else:        \n",
    "            minvalue = valuelist[0] + costlist[0]\n",
    "            \n",
    "\n",
    "            for i in range(len(agenda)):\n",
    "            \n",
    "                if valuelist[i] + costlist[i] <= minvalue:\n",
    "                \n",
    "                \n",
    "                    minvalue = valuelist[i] + costlist[i]\n",
    "            \n",
    "                    minindex = i\n",
    "                    \n",
    "            current = agenda.pop(minindex)\n",
    "        \n",
    "            reach_cost = costlist.pop(minindex)\n",
    "        \n",
    "            k = valuelist.pop(minindex) \n",
    "                    \n",
    "            visitedstate.append(current)\n",
    "        \n",
    "    \n",
    "        reach_cost_list.append(reach_cost)\n",
    "        \n",
    "       \n",
    "    \n",
    "        print('k+cost',k+reach_cost,'cost',cost,'k',k,'reach_cost',reach_cost,current,'   ',agenda+[current])\n",
    "    \n",
    "        print(reach_cost_list)\n",
    "        print(visitedstate)\n",
    "    \n",
    "\n",
    "        \n",
    "    print('The length of the route is {}'.format(len(visitedstate)))\n",
    "    \n",
    "except IndexError:\n",
    "    \n",
    "    print('No way out! Try another maze.')\n",
    "    \n",
    "else:\n",
    "    print('Visualise the route using the following code')\n"
   ]
  },
  {
   "cell_type": "code",
   "execution_count": null,
   "id": "20ab1f17",
   "metadata": {},
   "outputs": [],
   "source": [
    "for i"
   ]
  },
  {
   "cell_type": "code",
   "execution_count": 22,
   "id": "a6da962b",
   "metadata": {},
   "outputs": [],
   "source": [
    "new_nums = nums.tolist()\n",
    "set_of_reach_cost_set = set(reach_cost_list)\n",
    "k = len(set_of_reach_cost_set)\n",
    "#k = len(visitedstate)\n",
    "j = 0\n",
    "for item in visitedstate:\n",
    "    \n",
    "    new_nums[item[0]][item[1]] = 0.9 - (reach_cost_list[j]/(1.25*k))\n",
    "    \n",
    "    j +=1\n"
   ]
  },
  {
   "cell_type": "code",
   "execution_count": null,
   "id": "7c588f58",
   "metadata": {},
   "outputs": [],
   "source": []
  },
  {
   "cell_type": "code",
   "execution_count": 30,
   "id": "1aa1276e",
   "metadata": {
    "scrolled": false
   },
   "outputs": [
    {
     "data": {
      "image/png": "[encoded data removed]",
      "text/plain": [
       "<Figure size 720x720 with 2 Axes>"
      ]
     },
     "metadata": {
      "needs_background": "light"
     },
     "output_type": "display_data"
    },
    {
     "name": "stdout",
     "output_type": "stream",
     "text": [
      "Our algorithm took the route indicated below. Please bear in mind the list does not contain traditional coordinates instead they contain the row and column position. Therefore please read 0,0 as the first position indicated by start.\n",
      "[[0, 0], [0, 1], [0, 2], [0, 3], [0, 4], [1, 4], [1, 5], [1, 6], [2, 6], [3, 6], [4, 6], [2, 5], [2, 4], [3, 4], [4, 4], [5, 4], [5, 5], [6, 5], [6, 6]]\n"
     ]
    }
   ],
   "source": [
    "color1=(1,1,1)\n",
    "color2=(0/255,0/255,0/255)\n",
    "color3=(150/255,150/255,150/255)\n",
    "\n",
    "# Visually plot the state space\n",
    "\n",
    "plt.figure(figsize=(10, 10))\n",
    "\n",
    "cs=plt.imshow(new_nums,cmap='hot',aspect='equal')\n",
    "plt.xticks(np.linspace(0,b,b,endpoint=False)-0.51,(),fontsize=0)\n",
    "plt.yticks(np.linspace(0,a,a,endpoint=False)-0.53,(),fontsize=0)\n",
    "plt.ylabel(\"Start >\",\n",
    "            size=a,\n",
    "            rotation=0,\n",
    "            loc='top')\n",
    "plt.xlabel(\"Finish ^\",\n",
    "            size=a,\n",
    "            rotation=0,\n",
    "            loc='right')\n",
    "plt.tick_params(bottom=False,left=False,labeltop=True,labelright=True)\n",
    "plt.grid(which='both')\n",
    "plt.colorbar(shrink =0.5)\n",
    "plt.show()\n",
    "print('Our algorithm took the route indicated below. Please bear in mind the list does not contain traditional coordinates instead they contain the row and column position. Therefore please read 0,0 as the first position indicated by Start.')\n",
    "print(visitedstate)"
   ]
  },
  {
   "cell_type": "code",
   "execution_count": null,
   "id": "399e50a8",
   "metadata": {},
   "outputs": [],
   "source": [
    "for "
   ]
  },
  {
   "cell_type": "markdown",
   "id": "8b8866cb",
   "metadata": {},
   "source": [
    "---------------------------------------- Test code down there ---------------------------------------------------------------------------"
   ]
  },
  {
   "cell_type": "code",
   "execution_count": 2,
   "id": "1a87c380",
   "metadata": {},
   "outputs": [],
   "source": [
    "nums = [[1,0,1,1,1],[1,1,1,0,1,],[1,0,1,0,1],[1,0,1,0,1],[1,1,1,0,1]]\n",
    "#nums = np.random.choice([0,1], size=(5,5),p=[.3, .7])\n",
    "#nums = np.random.choice([0,1], size=(a,b),p=[.3, .7])\n",
    "#nums[0,0] = 1\n",
    "#nums[a-1,b-1] = 1\n",
    "\n",
    "def Make_map(x,y):\n",
    "   \n",
    "    # Create our state space\n",
    "    #nums = np.random.choice([0,1], size=(x,y),p=[.3, .7])\n",
    "    #nums[0,0] = 1\n",
    "    #nums[x-1,y-1] = 1\n",
    "    \n",
    "    \n",
    "\n",
    "\n",
    "    # Designate colours\n",
    "    color1=(1,1,1)\n",
    "    color2=(0/255,0/255,0/255)\n",
    "\n",
    "    # Visually plot the state space\n",
    "    my_cmap = matplotlib.colors.LinearSegmentedColormap.from_list('my_cmap',['black','white'],2)\n",
    "    plt.figure(figsize=(10, 10))\n",
    "    cs=plt.imshow(nums,cmap=my_cmap,aspect='equal')\n",
    "   \n",
    "    plt.xticks(np.linspace(0,y,y,endpoint=False)-0.5,(),fontsize=0)\n",
    "    plt.yticks(np.linspace(0,x,x,endpoint=False)-0.53,(),fontsize=0)\n",
    "    plt.ylabel(\"Start >\",\n",
    "                   size=15,\n",
    "                   rotation=0,\n",
    "                   loc='top')\n",
    "    plt.xlabel(\"Finish ^\",\n",
    "                   size=15,\n",
    "                   rotation=0,\n",
    "                   loc='right')\n",
    "    plt.tick_params(bottom=False,left=False,labeltop=True,labelright=True)\n",
    "    plt.grid(which='both')\n",
    "    plt.show()"
   ]
  },
  {
   "cell_type": "code",
   "execution_count": 3,
   "id": "26de1040",
   "metadata": {},
   "outputs": [],
   "source": [
    "# Check if the state is valid\n",
    "def checkValidState(state): \n",
    "    if state[0] > 5-1 or state[0] < 0:\n",
    "            return False\n",
    "        \n",
    "    if state[1] > 5-1 or state[1] < 0:\n",
    "            return False\n",
    "\n",
    "    if nums[state[0]][state[1]] == 0:\n",
    "        return False\n",
    "    return True\n",
    "\n",
    "# Check if the current node is the goal    \n",
    "def goal(state):\n",
    "    if state[0] == 5-1 and state[1] == 5-1:\n",
    "        return True\n",
    "    else:\n",
    "        return False\n",
    "\n",
    "# We have chosen to use the manhattan distance to the goal state as our heuristic to guide A* \n",
    "def heuristic(state):\n",
    "        value = ( 5- 1 - state[0]) + ( 5- 1 - state[1])\n",
    "        return value    \n",
    "    \n",
    "# A* = Choose lowest expected cost to goal. Cost is created through combing the previous journey \n",
    "# and the expected distance to the goal "
   ]
  },
  {
   "cell_type": "markdown",
   "id": "5eb42c61",
   "metadata": {},
   "source": [
    "# What path did the robot take? "
   ]
  },
  {
   "cell_type": "code",
   "execution_count": 10,
   "id": "e431cbf2",
   "metadata": {},
   "outputs": [
    {
     "name": "stdout",
     "output_type": "stream",
     "text": [
      "10\n",
      "9\n",
      "8\n",
      "7\n",
      "6\n",
      "5\n",
      "4\n",
      "7\n",
      "4\n",
      "3\n",
      "2\n",
      "6\n",
      "5\n",
      "4\n",
      "3\n",
      "2\n",
      "1\n"
     ]
    }
   ],
   "source": [
    "for i in reversed(reach_cost_list):\n",
    "    \n",
    "    print(i)"
   ]
  },
  {
   "cell_type": "code",
   "execution_count": 6,
   "id": "4da95b98",
   "metadata": {},
   "outputs": [],
   "source": [
    "#new_nums = nums.tolist()\n",
    "#index = 1 \n",
    "#k = len(path)\n",
    "#for item in path:\n",
    "    \n",
    "#    nums[item[0]][item[1]] = 0.9 - (index/(1.25*k))\n",
    "#    index += 1"
   ]
  },
  {
   "cell_type": "code",
   "execution_count": null,
   "id": "6aeb6e5f",
   "metadata": {},
   "outputs": [],
   "source": [
    "index = 1 \n",
    "\n",
    "set_of_reach_cost_set = set(reach_cost_list)\n",
    "k= len(set_of_reach_cost_set)\n",
    "#k = len(visitedstate)\n",
    "j = 1\n",
    "for i in reach_cost_list:\n",
    "    \n",
    "    nums[visitedstate[j][0]][visitedstate[j][1]] = 0.9 - (i/(1.25*k))\n",
    "    "
   ]
  },
  {
   "cell_type": "code",
   "execution_count": 7,
   "id": "58f36e88",
   "metadata": {
    "scrolled": false
   },
   "outputs": [
    {
     "data": {
      "image/png": "[encoded data removed]",
      "text/plain": [
       "<Figure size 720x720 with 2 Axes>"
      ]
     },
     "metadata": {
      "needs_background": "light"
     },
     "output_type": "display_data"
    }
   ],
   "source": [
    "color1=(1,1,1)\n",
    "color2=(0/255,0/255,0/255)\n",
    "color3=(150/255,150/255,150/255)\n",
    "\n",
    "# Visually plot the state space\n",
    "\n",
    "plt.figure(figsize=(10, 10))\n",
    "\n",
    "cs=plt.imshow(nums,cmap='hot',aspect='equal')\n",
    "\n",
    "plt.xticks(np.linspace(0,5,5,endpoint=False)-0.51,(),fontsize=0)\n",
    "plt.yticks(np.linspace(0,5,5,endpoint=False)-0.53,(),fontsize=0)\n",
    "plt.ylabel(\"Start >\",\n",
    "            size=15,\n",
    "            rotation=0,\n",
    "            loc='top')\n",
    "plt.xlabel(\"Finish ^\",\n",
    "            size=15,\n",
    "            rotation=0,\n",
    "            loc='right')\n",
    "plt.tick_params(bottom=False,left=False,labeltop=True,labelright=True)\n",
    "plt.grid(which='both')\n",
    "plt.colorbar(shrink =0.5)\n",
    "plt.show()\n",
    "\n"
   ]
  },
  {
   "cell_type": "code",
   "execution_count": null,
   "id": "e397b08c",
   "metadata": {},
   "outputs": [],
   "source": [
    "visitedstate"
   ]
  },
  {
   "cell_type": "markdown",
   "id": "0c99a89d",
   "metadata": {},
   "source": [
    "# To do \n",
    "\n",
    "1. Fix lines in graph\n",
    "2. Condense the code into one unit\n",
    "3. Make trace incrementally darker   done\n",
    "4. Ensure constant functionality"
   ]
  },
  {
   "cell_type": "code",
   "execution_count": null,
   "id": "0fe59a65",
   "metadata": {},
   "outputs": [],
   "source": [
    "\n",
    "current = [0,0]\n",
    "    \n",
    "visitedstate=[[0,0]]\n",
    "    \n",
    "agenda = []\n",
    "    \n",
    "valuelist = []\n",
    "\n",
    "\n",
    "# the order here matters, try run on the same maze with [0,1],[1,0] and [1,0],[0,1]    \n",
    "possibleActions = [[1,0],[-1,0],[0,1],[0,-1]]\n",
    "\n",
    "costlist = []\n",
    "\n",
    "cost = 0\n",
    "\n",
    "current_reach_cost = 1\n",
    "    \n",
    "while not goal(current):\n",
    "    \n",
    "    cost += 1   \n",
    "    \n",
    "    for move in possibleActions:\n",
    "        \n",
    "        \n",
    "            \n",
    "        nextstate = [current[i] + move[i] for i in range(2)]\n",
    "            \n",
    "        if nextstate not in visitedstate and nextstate not in agenda and checkValidState(nextstate):\n",
    "            \n",
    "            agenda.append(nextstate)\n",
    "            \n",
    "            real_cost = cost\n",
    "            \n",
    "            costlist.append(real_cost)\n",
    "            \n",
    "            valuelist.append(heuristic(nextstate))\n",
    "            \n",
    "            \n",
    "            \n",
    "    \n",
    "    if len(agenda) == 1:\n",
    "        \n",
    "        current = agenda.pop(0)\n",
    "        \n",
    "        k = valuelist.pop(0)\n",
    "        \n",
    "        reach_cost = costlist.pop(0)\n",
    "        \n",
    "        visitedstate.append(current)\n",
    "        \n",
    "    else:        \n",
    "        minvalue = valuelist[0] + costlist[0]\n",
    "            \n",
    "\n",
    "        for i in range(len(agenda)):\n",
    "            \n",
    "            if valuelist[i] + costlist[i] <= minvalue:\n",
    "                \n",
    "                minvalue = valuelist[i] + costlist[i]\n",
    "            \n",
    "                global minindex\n",
    "            \n",
    "                minindex = i\n",
    "                    \n",
    "        current = agenda.pop(minindex)\n",
    "               \n",
    "        reach_cost = costlist.pop(minindex)\n",
    "        \n",
    "        k = valuelist.pop(minindex) \n",
    "                    \n",
    "        visitedstate.append(current)\n",
    "    \n",
    "    print(cost+k,current,agenda+[current])\n",
    "        \n",
    "print('The length of the route is {}'.format(len(visitedstate)))\n"
   ]
  },
  {
   "cell_type": "code",
   "execution_count": null,
   "id": "17e4db28",
   "metadata": {},
   "outputs": [],
   "source": [
    "nums = np.random.choice([0,1], size=(x,y),p=[.3, .7])\n",
    "nums[0,0] = 1\n",
    "nums[x-1,y-1] = 1 \n",
    "new_nums = nums.tolist()"
   ]
  },
  {
   "cell_type": "code",
   "execution_count": null,
   "id": "1dd9ad43",
   "metadata": {},
   "outputs": [],
   "source": [
    "list1= [2,3,4,7,5,2]\n",
    "mini = list1[0]\n",
    "minindex = 0\n",
    "for i in (1,len(list1)-1):\n",
    "    \n",
    "    \n",
    "    if list1[i] <= mini:\n",
    "        \n",
    "        mini = list1[i]\n",
    "    \n",
    "        minindex = i\n",
    "    \n",
    "    \n",
    "            \n",
    "    "
   ]
  },
  {
   "cell_type": "code",
   "execution_count": null,
   "id": "28319a53",
   "metadata": {},
   "outputs": [],
   "source": [
    "mini"
   ]
  },
  {
   "cell_type": "code",
   "execution_count": null,
   "id": "b691ad02",
   "metadata": {},
   "outputs": [],
   "source": [
    "minindex"
   ]
  },
  {
   "cell_type": "code",
   "execution_count": null,
   "id": "f9a53a20",
   "metadata": {},
   "outputs": [],
   "source": [
    "a=None\n",
    "b=5\n",
    "min(a,b)"
   ]
  },
  {
   "cell_type": "code",
   "execution_count": 33,
   "id": "977606a7",
   "metadata": {
    "scrolled": true
   },
   "outputs": [
    {
     "name": "stdout",
     "output_type": "stream",
     "text": [
      "The length of the route is 23\n",
      "Visualise the route using the following code\n"
     ]
    }
   ],
   "source": [
    "try:\n",
    "    current = [0,0]\n",
    "    \n",
    "    visitedstate=[[0,0]]\n",
    "    \n",
    "    agenda = []\n",
    "    \n",
    "    valuelist = []\n",
    "\n",
    "\n",
    "# the order here matters, try run on the same maze with [0,1],[1,0] and [1,0],[0,1]    \n",
    "    possibleActions = [[1,0],[-1,0],[0,1],[0,-1]]\n",
    "\n",
    "    costlist = []\n",
    "\n",
    "    cost = 0\n",
    "\n",
    "    current_reach_cost = 1\n",
    "    \n",
    "    while not goal(current):\n",
    "    \n",
    "        cost += 1   \n",
    "    \n",
    "        for move in possibleActions:\n",
    "        \n",
    "        \n",
    "            \n",
    "            nextstate = [current[i] + move[i] for i in range(2)]\n",
    "            \n",
    "            if nextstate not in visitedstate and nextstate not in agenda and checkValidState(nextstate):\n",
    "            \n",
    "                agenda.append(nextstate)\n",
    "            \n",
    "                real_cost = min(cost,current_reach_cost)\n",
    "            \n",
    "                costlist.append(real_cost)\n",
    "            \n",
    "                valuelist.append(heuristic(nextstate))\n",
    "            \n",
    "    \n",
    "        if len(agenda) == 1:\n",
    "        \n",
    "            current = agenda.pop(0)\n",
    "        \n",
    "            valuelist.pop(0)\n",
    "        \n",
    "            costlist.pop(0)\n",
    "        \n",
    "            visitedstate.append(current)\n",
    "        \n",
    "        else:        \n",
    "            minvalue = valuelist[0] + costlist[0]\n",
    "            \n",
    "\n",
    "            for i in range(len(agenda)):\n",
    "            \n",
    "                if valuelist[i] + costlist[i] <= minvalue:\n",
    "                \n",
    "                    minvalue = valuelist[i] + costlist[i]\n",
    "            \n",
    "                    global minindex\n",
    "            \n",
    "                    minindex = i\n",
    "                    \n",
    "            current = agenda.pop(minindex)\n",
    "               \n",
    "            current_reach_cost = costlist.pop(minindex)\n",
    "        \n",
    "            valuelist.pop(minindex) \n",
    "                    \n",
    "            visitedstate.append(current)\n",
    "    print('The length of the route is {}'.format(len(visitedstate)))\n",
    "    \n",
    "except IndexError:\n",
    "    \n",
    "    print('No way out! Try another maze.')\n",
    "    \n",
    "else:\n",
    "    print('Visualise the route using the following code')\n"
   ]
  },
  {
   "cell_type": "code",
   "execution_count": null,
   "id": "371ccd66",
   "metadata": {},
   "outputs": [],
   "source": [
    "list1= [2,3,4,7,5,2]"
   ]
  },
  {
   "cell_type": "code",
   "execution_count": null,
   "id": "009f7fca",
   "metadata": {},
   "outputs": [],
   "source": [
    "list1[-1]"
   ]
  },
  {
   "cell_type": "code",
   "execution_count": null,
   "id": "40d1c1c4",
   "metadata": {},
   "outputs": [],
   "source": [
    "current = [5,5,6]\n",
    "possibleActions = [[1,0,1],[-1,0,1],[0,1,0],[0,-1,-1]]\n",
    "for _ in possibleActions:\n",
    "        \n",
    "        \n",
    "            \n",
    "        nextstate = [current[i] + _[i] for i in range(3)]\n",
    "        \n",
    "        print(nextstate)"
   ]
  },
  {
   "cell_type": "code",
   "execution_count": null,
   "id": "fbfaca02",
   "metadata": {},
   "outputs": [],
   "source": [
    "list(range(2))"
   ]
  },
  {
   "cell_type": "code",
   "execution_count": null,
   "id": "ab47c435",
   "metadata": {},
   "outputs": [],
   "source": [
    "current[0]"
   ]
  },
  {
   "cell_type": "code",
   "execution_count": null,
   "id": "42094179",
   "metadata": {},
   "outputs": [],
   "source": [
    "for move in possibleActions:\n",
    "    print(move)\n"
   ]
  },
  {
   "cell_type": "code",
   "execution_count": null,
   "id": "b39b7381",
   "metadata": {},
   "outputs": [],
   "source": [
    "nums = [[1,0,1,1,1],[1,1,1,0,1,],[1,0,1,0,1],[1,0,1,0,1],[1,1,1,0,1]]    \n",
    "nums[5][0]"
   ]
  },
  {
   "cell_type": "code",
   "execution_count": null,
   "id": "ab2f1099",
   "metadata": {},
   "outputs": [],
   "source": [
    "np.random.choice([0,1], size=(5,5),p=[.3, .7])"
   ]
  },
  {
   "cell_type": "code",
   "execution_count": null,
   "id": "6b63f6bc",
   "metadata": {},
   "outputs": [],
   "source": []
  },
  {
   "cell_type": "code",
   "execution_count": null,
   "id": "2cef7a32",
   "metadata": {},
   "outputs": [],
   "source": [
    "m=0\n",
    "n = 0\n",
    "while n % 3 ==1:\n",
    "    \n",
    "    print(n,m)\n",
    "    \n",
    "    "
   ]
  },
  {
   "cell_type": "code",
   "execution_count": 21,
   "id": "8941d1c2",
   "metadata": {},
   "outputs": [
    {
     "ename": "SyntaxError",
     "evalue": "invalid syntax (<ipython-input-21-bc2ff305917c>, line 23)",
     "output_type": "error",
     "traceback": [
      "\u001b[0;36m  File \u001b[0;32m\"<ipython-input-21-bc2ff305917c>\"\u001b[0;36m, line \u001b[0;32m23\u001b[0m\n\u001b[0;31m    break\u001b[0m\n\u001b[0m    ^\u001b[0m\n\u001b[0;31mSyntaxError\u001b[0m\u001b[0;31m:\u001b[0m invalid syntax\n"
     ]
    }
   ],
   "source": [
    "#new_nums = nums.tolist()\n",
    "index = 1 \n",
    "\n",
    "set_of_reach_cost_set = set(reach_cost_list)\n",
    "k= len(set_of_reach_cost_set)\n",
    "#k = len(visitedstate)\n",
    "j = 1\n",
    "for i in reach_cost_list:\n",
    "    \n",
    "    nums[visitedstate[j][0]][visitedstate[j][1]] = 0.9 - (i/(1.25*k))\n",
    "    \n",
    "    j += 1\n",
    "    \n",
    "k= 0     \n",
    "for i in range(len(set_of_reach_cost)):\n",
    "    \n",
    "    for _ in reversed(reach_cost_list):\n",
    "        \n",
    "        if (i+1) == _:\n",
    "            \n",
    "            print(reversed(visitedstate[k])\n",
    "            \n",
    "            break      \n",
    "        k += 1 \n",
    "                  \n",
    "    \n",
    "                  \n",
    "                \n",
    "            \n",
    "            \n",
    "\n",
    "    "
   ]
  },
  {
   "cell_type": "code",
   "execution_count": 46,
   "id": "73d9b089",
   "metadata": {},
   "outputs": [],
   "source": [
    "\n",
    "reverse = []\n",
    "\n",
    "de = list(reach_cost_list)  \n",
    "\n",
    "reverse.append(de.pop())\n",
    "\n",
    "\n",
    "\n",
    "while de:\n",
    "    \n",
    "    \n",
    "    latter = de.pop()\n",
    "    \n",
    "    reverse.append(latter)\n",
    "\n",
    "    if reverse[-1] != reverse[-2] -1:\n",
    "        \n",
    "        break\n",
    "real_route= []   \n",
    "l = len(reverse)-1\n",
    "\n",
    "for i in range(l):\n",
    "    \n",
    "    real_route.append(visitedstate.pop())\n",
    "    \n",
    "\n",
    "path = visitedstate[:(k-l)] + real_route[::-1] \n",
    "\n"
   ]
  }
 ],
 "metadata": {
  "kernelspec": {
   "display_name": "Python 3 (ipykernel)",
   "language": "python",
   "name": "python3"
  },
  "language_info": {
   "codemirror_mode": {
    "name": "ipython",
    "version": 3
   },
   "file_extension": ".py",
   "mimetype": "text/x-python",
   "name": "python",
   "nbconvert_exporter": "python",
   "pygments_lexer": "ipython3",
   "version": "3.8.8"
  }
 },
 "nbformat": 4,
 "nbformat_minor": 5
}
